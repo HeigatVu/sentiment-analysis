{
 "cells": [
  {
   "cell_type": "markdown",
   "metadata": {},
   "source": [
    "LOAD DATASET"
   ]
  },
  {
   "cell_type": "code",
   "execution_count": 7,
   "metadata": {},
   "outputs": [],
   "source": [
    "import pandas as pd\n",
    "\n",
    "df = pd.read_csv(\"./IMDB-Dataset.csv\")\n",
    "\n",
    "df = df.drop_duplicates()"
   ]
  },
  {
   "cell_type": "code",
   "execution_count": 8,
   "metadata": {},
   "outputs": [
    {
     "name": "stdout",
     "output_type": "stream",
     "text": [
      "                                                  review sentiment\n",
      "0      One of the other reviewers has mentioned that ...  positive\n",
      "1      A wonderful little production. <br /><br />The...  positive\n",
      "2      I thought this was a wonderful way to spend ti...  positive\n",
      "3      Basically there's a family where a little boy ...  negative\n",
      "4      Petter Mattei's \"Love in the Time of Money\" is...  positive\n",
      "...                                                  ...       ...\n",
      "49995  I thought this movie did a down right good job...  positive\n",
      "49996  Bad plot, bad dialogue, bad acting, idiotic di...  negative\n",
      "49997  I am a Catholic taught in parochial elementary...  negative\n",
      "49998  I'm going to have to disagree with the previou...  negative\n",
      "49999  No one expects the Star Trek movies to be high...  negative\n",
      "\n",
      "[49582 rows x 2 columns]\n"
     ]
    }
   ],
   "source": [
    "print(df)"
   ]
  },
  {
   "cell_type": "markdown",
   "metadata": {},
   "source": [
    "PREPROCESSING"
   ]
  },
  {
   "cell_type": "code",
   "execution_count": 9,
   "metadata": {},
   "outputs": [
    {
     "name": "stdout",
     "output_type": "stream",
     "text": [
      "Requirement already satisfied: nltk in /home/heigatvu/anaconda3/envs/aio2024-hw/lib/python3.11/site-packages (3.9.1)\n",
      "Requirement already satisfied: click in /home/heigatvu/anaconda3/envs/aio2024-hw/lib/python3.11/site-packages (from nltk) (8.1.7)\n",
      "Requirement already satisfied: joblib in /home/heigatvu/anaconda3/envs/aio2024-hw/lib/python3.11/site-packages (from nltk) (1.4.2)\n",
      "Requirement already satisfied: regex>=2021.8.3 in /home/heigatvu/anaconda3/envs/aio2024-hw/lib/python3.11/site-packages (from nltk) (2024.7.24)\n",
      "Requirement already satisfied: tqdm in /home/heigatvu/anaconda3/envs/aio2024-hw/lib/python3.11/site-packages (from nltk) (4.66.5)\n",
      "Requirement already satisfied: beautifulsoup4 in /home/heigatvu/anaconda3/envs/aio2024-hw/lib/python3.11/site-packages (4.12.3)\n",
      "Requirement already satisfied: soupsieve>1.2 in /home/heigatvu/anaconda3/envs/aio2024-hw/lib/python3.11/site-packages (from beautifulsoup4) (2.6)\n",
      "Requirement already satisfied: contractions in /home/heigatvu/anaconda3/envs/aio2024-hw/lib/python3.11/site-packages (0.1.73)\n",
      "Requirement already satisfied: textsearch>=0.0.21 in /home/heigatvu/anaconda3/envs/aio2024-hw/lib/python3.11/site-packages (from contractions) (0.0.24)\n",
      "Requirement already satisfied: anyascii in /home/heigatvu/anaconda3/envs/aio2024-hw/lib/python3.11/site-packages (from textsearch>=0.0.21->contractions) (0.3.2)\n",
      "Requirement already satisfied: pyahocorasick in /home/heigatvu/anaconda3/envs/aio2024-hw/lib/python3.11/site-packages (from textsearch>=0.0.21->contractions) (2.1.0)\n"
     ]
    }
   ],
   "source": [
    "! pip install nltk\n",
    "! pip install beautifulsoup4\n",
    "! pip install contractions"
   ]
  },
  {
   "cell_type": "code",
   "execution_count": 10,
   "metadata": {},
   "outputs": [
    {
     "name": "stderr",
     "output_type": "stream",
     "text": [
      "[nltk_data] Downloading package stopwords to\n",
      "[nltk_data]     /home/heigatvu/nltk_data...\n",
      "[nltk_data]   Package stopwords is already up-to-date!\n",
      "[nltk_data] Downloading package wordnet to /home/heigatvu/nltk_data...\n",
      "[nltk_data]   Package wordnet is already up-to-date!\n",
      "/tmp/ipykernel_73832/1858673071.py:18: MarkupResemblesLocatorWarning: The input looks more like a filename than markup. You may want to open this file and pass the filehandle into Beautiful Soup.\n",
      "  soup = BeautifulSoup(text, \"html.parser\")\n"
     ]
    }
   ],
   "source": [
    "import re\n",
    "import string\n",
    "import nltk\n",
    "nltk.download(\"stopwords\")\n",
    "nltk.download(\"wordnet\")\n",
    "from nltk.corpus import stopwords\n",
    "from nltk.stem import WordNetLemmatizer\n",
    "from bs4 import BeautifulSoup\n",
    "import contractions\n",
    "\n",
    "stop = set(stopwords.words(\"english\"))\n",
    "\n",
    "def expand_contractions(text):\n",
    "    return contractions.fix(text)\n",
    "\n",
    "def preprocess_text(text):\n",
    "    w1 = WordNetLemmatizer()\n",
    "    soup = BeautifulSoup(text, \"html.parser\")\n",
    "    text = soup.get_text()\n",
    "    text = expand_contractions(text)\n",
    "    emoji_clean = re.compile(\n",
    "        \"[\"\n",
    "        u\"\\U0001F600-\\U0001F64F\"\n",
    "        u\"\\U0001F300-\\U0001F5FF\"\n",
    "        u\"\\U0001F680-\\U0001F6FF\"\n",
    "        u\"\\U0001F1E0-\\U0001F1FF\"\n",
    "        u\"\\U00002702-\\U000027B0\"\n",
    "        u\"\\U000024C2-\\U0001F251\"\n",
    "        \"]+\", flags = re.UNICODE\n",
    "    )\n",
    "    text = emoji_clean.sub(r'', text)\n",
    "    text = re.sub(r'\\.(?=\\S)', '. ', text)\n",
    "    text = re.sub(r'http\\S+', '', text)\n",
    "    text = \"\".join([\n",
    "        word.lower() for word in text if word not in string.punctuation\n",
    "    ])\n",
    "    text = \" \".join([\n",
    "        w1.lemmatize(word) for word in text.split() if word not in stop and word.isalpha()\n",
    "    ])\n",
    "    return text\n",
    "\n",
    "df[\"review\"] = df[\"review\"].apply(preprocess_text)"
   ]
  },
  {
   "cell_type": "code",
   "execution_count": 11,
   "metadata": {},
   "outputs": [
    {
     "name": "stdout",
     "output_type": "stream",
     "text": [
      "                                                  review sentiment\n",
      "0      one reviewer mentioned watching oz episode hoo...  positive\n",
      "1      wonderful little production filming technique ...  positive\n",
      "2      thought wonderful way spend time hot summer we...  positive\n",
      "3      basically family little boy jake think zombie ...  negative\n",
      "4      petter matteis love time money visually stunni...  positive\n",
      "...                                                  ...       ...\n",
      "49995  thought movie right good job creative original...  positive\n",
      "49996  bad plot bad dialogue bad acting idiotic direc...  negative\n",
      "49997  catholic taught parochial elementary school nu...  negative\n",
      "49998  going disagree previous comment side maltin on...  negative\n",
      "49999  one expects star trek movie high art fan expec...  negative\n",
      "\n",
      "[49582 rows x 2 columns]\n"
     ]
    }
   ],
   "source": [
    "print(df)"
   ]
  }
 ],
 "metadata": {
  "kernelspec": {
   "display_name": "aio2024-hw",
   "language": "python",
   "name": "python3"
  },
  "language_info": {
   "codemirror_mode": {
    "name": "ipython",
    "version": 3
   },
   "file_extension": ".py",
   "mimetype": "text/x-python",
   "name": "python",
   "nbconvert_exporter": "python",
   "pygments_lexer": "ipython3",
   "version": "3.11.9"
  }
 },
 "nbformat": 4,
 "nbformat_minor": 2
}
